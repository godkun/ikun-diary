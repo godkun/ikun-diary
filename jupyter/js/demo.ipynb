{
 "cells": [
  {
   "cell_type": "code",
   "execution_count": 4,
   "metadata": {},
   "outputs": [
    {
     "name": "stdout",
     "output_type": "stream",
     "text": [
      "deno hello world!\n"
     ]
    }
   ],
   "source": [
    "console.log(\"deno hello world!\")"
   ]
  },
  {
   "cell_type": "code",
   "execution_count": 5,
   "metadata": {},
   "outputs": [],
   "source": [
    "function pivot(arr, start = 0, end = arr.length - 1) {\n",
    "    let pivot = arr[start]; // 选择第一个元素作为基准值\n",
    "    let swapIdx = start; // 交换索引\n",
    "  \n",
    "    for (let i = start + 1; i <= end; i++) {\n",
    "      if (pivot > arr[i]) {\n",
    "        swapIdx++;\n",
    "        // 交换元素\n",
    "        [arr[swapIdx], arr[i]] = [arr[i], arr[swapIdx]];\n",
    "      }\n",
    "    }\n",
    "    // 将基准值移动到正确的位置\n",
    "    [arr[start], arr[swapIdx]] = [arr[swapIdx], arr[start]];\n",
    "    return swapIdx;\n",
    "  }\n",
    "  "
   ]
  },
  {
   "cell_type": "code",
   "execution_count": 6,
   "metadata": {},
   "outputs": [],
   "source": [
    "function quickSort(arr, left = 0, right = arr.length - 1) {\n",
    "    if (left < right) {\n",
    "      let pivotIndex = pivot(arr, left, right); // 获取基准值索引\n",
    "      // 递归排序基准值左边的子数组\n",
    "      quickSort(arr, left, pivotIndex - 1);\n",
    "      // 递归排序基准值右边的子数组\n",
    "      quickSort(arr, pivotIndex + 1, right);\n",
    "    }\n",
    "    return arr;\n",
    "  }"
   ]
  },
  {
   "cell_type": "code",
   "execution_count": 11,
   "metadata": {},
   "outputs": [],
   "source": [
    "let array = [4, 10, 2, 1, 5, 7, 6, 3];"
   ]
  },
  {
   "cell_type": "code",
   "execution_count": 12,
   "metadata": {},
   "outputs": [
    {
     "name": "stdout",
     "output_type": "stream",
     "text": [
      "[\n",
      "  1, 2, 3,  4,\n",
      "  5, 6, 7, 10\n",
      "]\n"
     ]
    }
   ],
   "source": [
    "console.log(quickSort(array))"
   ]
  },
  {
   "cell_type": "code",
   "execution_count": 13,
   "metadata": {},
   "outputs": [
    {
     "name": "stdout",
     "output_type": "stream",
     "text": [
      "[\n",
      "  1, 2, 3, 4,\n",
      "  5, 6, 7, 8\n",
      "]\n"
     ]
    }
   ],
   "source": [
    "console.log(quickSort([4, 8, 2, 1, 5, 7, 6, 3]))"
   ]
  }
 ],
 "metadata": {
  "kernelspec": {
   "display_name": "Deno",
   "language": "typescript",
   "name": "deno"
  },
  "language_info": {
   "file_extension": ".ts",
   "mimetype": "text/x.typescript",
   "name": "typescript",
   "nb_converter": "script",
   "pygments_lexer": "typescript",
   "version": "5.4.3"
  }
 },
 "nbformat": 4,
 "nbformat_minor": 4
}
