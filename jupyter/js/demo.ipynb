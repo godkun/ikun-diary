{
 "cells": [
  {
   "cell_type": "code",
   "execution_count": 3,
   "metadata": {},
   "outputs": [
    {
     "name": "stdout",
     "output_type": "stream",
     "text": [
      "hello world!\n"
     ]
    }
   ],
   "source": [
    "console.log(\"hello world!\")"
   ]
  },
  {
   "cell_type": "code",
   "execution_count": 30,
   "metadata": {},
   "outputs": [
    {
     "data": {
      "text/html": [
       "<h1>Hello world!</h1>"
      ]
     },
     "execution_count": 30,
     "metadata": {},
     "output_type": "execute_result"
    }
   ],
   "source": [
    "{\n",
    "    [Symbol.for(\"Jupyter.display\")]() {\n",
    "      return {\n",
    "        \"text/html\": \"<h1>Hello world!</h1>\",\n",
    "      }\n",
    "    }\n",
    "  }"
   ]
  },
  {
   "cell_type": "code",
   "execution_count": 8,
   "metadata": {},
   "outputs": [
    {
     "data": {
      "text/plain": [
       "\u001b[32m\"hello ikun!\"\u001b[39m"
      ]
     },
     "execution_count": 8,
     "metadata": {},
     "output_type": "execute_result"
    }
   ],
   "source": [
    "const content = Deno.readTextFileSync(\"hello.txt\");\n",
    "content\n",
    "  "
   ]
  },
  {
   "cell_type": "code",
   "execution_count": 5,
   "metadata": {},
   "outputs": [
    {
     "name": "stdout",
     "output_type": "stream",
     "text": [
      "[ 1, 2, 3, [ 4 ] ]\n"
     ]
    }
   ],
   "source": [
    "import * as _ from \"https://deno.land/x/lodash_es@v0.0.2/mod.ts\";\n",
    "const array = [1];\n",
    "const concatArr = _.concat(array, 2, [3], [[4]]);\n",
    "\n",
    "console.log(concatArr);"
   ]
  },
  {
   "cell_type": "code",
   "execution_count": 6,
   "metadata": {},
   "outputs": [],
   "source": [
    "import pl from \"npm:nodejs-polars\";\n",
    "import { display } from \"https://deno.land/x/display@v0.1.1/mod.ts\";"
   ]
  },
  {
   "cell_type": "code",
   "execution_count": null,
   "metadata": {},
   "outputs": [],
   "source": []
  },
  {
   "cell_type": "code",
   "execution_count": 7,
   "metadata": {},
   "outputs": [
    {
     "data": {
      "application/vnd.dataresource+json": {
       "data": [
        {
         "ActualExpenses": 232,
         "ActualIncome": 292,
         "BudgetExpenses": 226,
         "BudgetIncome": 290,
         "Consulting": 1,
         "Date": "2022-07-14",
         "DiffExpenses": -6,
         "DiffIncome": -2,
         "Equipment": 27,
         "Expenses": 232,
         "Hardware": 9,
         "Income": 292,
         "Marketing": 26,
         "NetIncome": 60,
         "Office Supplies": 8,
         "R&D": 42,
         "Rent": 45,
         "Salaries": 32,
         "Software": 2,
         "Utilities": 40
        },
        {
         "ActualExpenses": 222,
         "ActualIncome": 302,
         "BudgetExpenses": 224,
         "BudgetIncome": 297,
         "Consulting": 7,
         "Date": "2022-05-26",
         "DiffExpenses": 2,
         "DiffIncome": -5,
         "Equipment": 26,
         "Expenses": 222,
         "Hardware": 8,
         "Income": 302,
         "Marketing": 31,
         "NetIncome": 80,
         "Office Supplies": 9,
         "R&D": 34,
         "Rent": 41,
         "Salaries": 41,
         "Software": 1,
         "Utilities": 24
        },
        {
         "ActualExpenses": 223,
         "ActualIncome": 301,
         "BudgetExpenses": 220,
         "BudgetIncome": 289,
         "Consulting": 7,
         "Date": "2022-04-26",
         "DiffExpenses": -3,
         "DiffIncome": -12,
         "Equipment": 34,
         "Expenses": 223,
         "Hardware": 8,
         "Income": 301,
         "Marketing": 42,
         "NetIncome": 78,
         "Office Supplies": 9,
         "R&D": 29,
         "Rent": 21,
         "Salaries": 21,
         "Software": 7,
         "Utilities": 45
        },
        {
         "ActualExpenses": 202,
         "ActualIncome": 231,
         "BudgetExpenses": 195,
         "BudgetIncome": 234,
         "Consulting": 1,
         "Date": "2022-07-08",
         "DiffExpenses": -7,
         "DiffIncome": 3,
         "Equipment": 22,
         "Expenses": 202,
         "Hardware": 6,
         "Income": 231,
         "Marketing": 48,
         "NetIncome": 29,
         "Office Supplies": 3,
         "R&D": 21,
         "Rent": 24,
         "Salaries": 46,
         "Software": 1,
         "Utilities": 30
        },
        {
         "ActualExpenses": 268,
         "ActualIncome": 342,
         "BudgetExpenses": 269,
         "BudgetIncome": 349,
         "Consulting": 8,
         "Date": "2022-03-19",
         "DiffExpenses": 1,
         "DiffIncome": 7,
         "Equipment": 47,
         "Expenses": 268,
         "Hardware": 6,
         "Income": 342,
         "Marketing": 38,
         "NetIncome": 74,
         "Office Supplies": 5,
         "R&D": 36,
         "Rent": 47,
         "Salaries": 37,
         "Software": 5,
         "Utilities": 39
        },
        {
         "ActualExpenses": 234,
         "ActualIncome": 315,
         "BudgetExpenses": 229,
         "BudgetIncome": 318,
         "Consulting": 8,
         "Date": "2022-07-12",
         "DiffExpenses": -5,
         "DiffIncome": 3,
         "Equipment": 46,
         "Expenses": 234,
         "Hardware": 3,
         "Income": 315,
         "Marketing": 39,
         "NetIncome": 81,
         "Office Supplies": 7,
         "R&D": 42,
         "Rent": 37,
         "Salaries": 26,
         "Software": 1,
         "Utilities": 25
        }
       ],
       "schema": {
        "fields": [
         {
          "name": "Date",
          "type": "string"
         },
         {
          "name": "Income",
          "type": "integer"
         },
         {
          "name": "Expenses",
          "type": "integer"
         },
         {
          "name": "NetIncome",
          "type": "integer"
         },
         {
          "name": "BudgetIncome",
          "type": "integer"
         },
         {
          "name": "ActualIncome",
          "type": "integer"
         },
         {
          "name": "BudgetExpenses",
          "type": "integer"
         },
         {
          "name": "ActualExpenses",
          "type": "integer"
         },
         {
          "name": "Salaries",
          "type": "integer"
         },
         {
          "name": "R&D",
          "type": "integer"
         },
         {
          "name": "Marketing",
          "type": "integer"
         },
         {
          "name": "Utilities",
          "type": "integer"
         },
         {
          "name": "Rent",
          "type": "integer"
         },
         {
          "name": "Equipment",
          "type": "integer"
         },
         {
          "name": "Software",
          "type": "integer"
         },
         {
          "name": "Hardware",
          "type": "integer"
         },
         {
          "name": "Consulting",
          "type": "integer"
         },
         {
          "name": "Office Supplies",
          "type": "integer"
         },
         {
          "name": "DiffIncome",
          "type": "integer"
         },
         {
          "name": "DiffExpenses",
          "type": "integer"
         }
        ]
       }
      },
      "text/html": [
       "<table><thead><tr><th>Date</th><th>Income</th><th>Expenses</th><th>NetIncome</th><th>BudgetIncome</th><th>ActualIncome</th><th>BudgetExpenses</th><th>ActualExpenses</th><th>Salaries</th><th>R&amp;D</th><th>Marketing</th><th>Utilities</th><th>Rent</th><th>Equipment</th><th>Software</th><th>Hardware</th><th>Consulting</th><th>Office Supplies</th><th>DiffIncome</th><th>DiffExpenses</th></tr></thead><tbody><tr><td>2022-07-14</td><td>292</td><td>232</td><td>60</td><td>290</td><td>292</td><td>226</td><td>232</td><td>32</td><td>42</td><td>26</td><td>40</td><td>45</td><td>27</td><td>2</td><td>9</td><td>1</td><td>8</td><td>-2</td><td>-6</td></tr><tr><td>2022-05-26</td><td>302</td><td>222</td><td>80</td><td>297</td><td>302</td><td>224</td><td>222</td><td>41</td><td>34</td><td>31</td><td>24</td><td>41</td><td>26</td><td>1</td><td>8</td><td>7</td><td>9</td><td>-5</td><td>2</td></tr><tr><td>2022-04-26</td><td>301</td><td>223</td><td>78</td><td>289</td><td>301</td><td>220</td><td>223</td><td>21</td><td>29</td><td>42</td><td>45</td><td>21</td><td>34</td><td>7</td><td>8</td><td>7</td><td>9</td><td>-12</td><td>-3</td></tr><tr><td>2022-07-08</td><td>231</td><td>202</td><td>29</td><td>234</td><td>231</td><td>195</td><td>202</td><td>46</td><td>21</td><td>48</td><td>30</td><td>24</td><td>22</td><td>1</td><td>6</td><td>1</td><td>3</td><td>3</td><td>-7</td></tr><tr><td>2022-03-19</td><td>342</td><td>268</td><td>74</td><td>349</td><td>342</td><td>269</td><td>268</td><td>37</td><td>36</td><td>38</td><td>39</td><td>47</td><td>47</td><td>5</td><td>6</td><td>8</td><td>5</td><td>7</td><td>1</td></tr><tr><td>2022-07-12</td><td>315</td><td>234</td><td>81</td><td>318</td><td>315</td><td>229</td><td>234</td><td>26</td><td>42</td><td>39</td><td>25</td><td>37</td><td>46</td><td>1</td><td>3</td><td>8</td><td>7</td><td>3</td><td>-5</td></tr></tbody></table>"
      ]
     },
     "execution_count": 7,
     "metadata": {},
     "output_type": "execute_result"
    }
   ],
   "source": [
    "let df = pl.readCSV('demo.csv', { sep: \",\" });\n",
    "  \n",
    "await display(df.sample(6));"
   ]
  }
 ],
 "metadata": {
  "kernelspec": {
   "display_name": "Deno",
   "language": "typescript",
   "name": "deno"
  },
  "language_info": {
   "file_extension": ".ts",
   "mimetype": "text/x.typescript",
   "name": "typescript",
   "nb_converter": "script",
   "pygments_lexer": "typescript",
   "version": "5.4.3"
  }
 },
 "nbformat": 4,
 "nbformat_minor": 4
}
