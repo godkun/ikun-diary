{
 "cells": [
  {
   "cell_type": "code",
   "execution_count": 2,
   "metadata": {},
   "outputs": [
    {
     "name": "stdout",
     "output_type": "stream",
     "text": [
      "Requirement already satisfied: torch in /Users/kun/anaconda3/envs/pytorch/lib/python3.11/site-packages (2.2.0.post100)\n",
      "Requirement already satisfied: filelock in /Users/kun/anaconda3/envs/pytorch/lib/python3.11/site-packages (from torch) (3.13.1)\n",
      "Requirement already satisfied: typing-extensions>=4.8.0 in /Users/kun/anaconda3/envs/pytorch/lib/python3.11/site-packages (from torch) (4.9.0)\n",
      "Requirement already satisfied: sympy in /Users/kun/anaconda3/envs/pytorch/lib/python3.11/site-packages (from torch) (1.12)\n",
      "Requirement already satisfied: networkx in /Users/kun/anaconda3/envs/pytorch/lib/python3.11/site-packages (from torch) (3.1)\n",
      "Requirement already satisfied: jinja2 in /Users/kun/anaconda3/envs/pytorch/lib/python3.11/site-packages (from torch) (3.1.3)\n",
      "Requirement already satisfied: fsspec in /Users/kun/anaconda3/envs/pytorch/lib/python3.11/site-packages (from torch) (2023.10.0)\n",
      "Requirement already satisfied: MarkupSafe>=2.0 in /Users/kun/anaconda3/envs/pytorch/lib/python3.11/site-packages (from jinja2->torch) (2.1.3)\n",
      "Requirement already satisfied: mpmath>=0.19 in /Users/kun/anaconda3/envs/pytorch/lib/python3.11/site-packages (from sympy->torch) (1.3.0)\n",
      "^C\n"
     ]
    }
   ],
   "source": [
    "!pip install torch"
   ]
  },
  {
   "cell_type": "code",
   "execution_count": 3,
   "metadata": {},
   "outputs": [],
   "source": [
    "import torch\n",
    "import torch.nn as nn"
   ]
  },
  {
   "cell_type": "code",
   "execution_count": 4,
   "metadata": {},
   "outputs": [],
   "source": [
    "# 创建一个 Softmax 实例\n",
    "softmax = nn.Softmax(dim=1)"
   ]
  },
  {
   "cell_type": "code",
   "execution_count": 5,
   "metadata": {},
   "outputs": [],
   "source": [
    "# 假设我们有一个输入张量，形状为 (batch_size, num_classes)\n",
    "# 这里我们创建一个示例张量，包含了一些随机分数\n",
    "batch_size = 3\n",
    "num_classes = 5\n",
    "input_tensor = torch.randn(batch_size, num_classes)"
   ]
  },
  {
   "cell_type": "code",
   "execution_count": 7,
   "metadata": {},
   "outputs": [],
   "source": [
    "# 应用 softmax 激活函数\n",
    "output = softmax(input_tensor)"
   ]
  },
  {
   "cell_type": "code",
   "execution_count": 8,
   "metadata": {},
   "outputs": [
    {
     "name": "stdout",
     "output_type": "stream",
     "text": [
      "Input tensor:\n",
      "tensor([[-0.6532, -1.3961,  0.2941, -0.4275,  0.0099],\n",
      "        [-1.3046,  0.6299,  0.3587, -1.3999,  1.3102],\n",
      "        [ 0.0487,  1.1105,  0.0727, -0.4059, -0.0076]])\n"
     ]
    }
   ],
   "source": [
    "print(\"Input tensor:\")\n",
    "print(input_tensor)"
   ]
  },
  {
   "cell_type": "code",
   "execution_count": 11,
   "metadata": {},
   "outputs": [
    {
     "name": "stdout",
     "output_type": "stream",
     "text": [
      "\n",
      "Output tensor after applying softmax:\n",
      "tensor([[0.1380, 0.0656, 0.3558, 0.1729, 0.2678],\n",
      "        [0.0360, 0.2492, 0.1900, 0.0327, 0.4920],\n",
      "        [0.1539, 0.4451, 0.1577, 0.0977, 0.1455]])\n"
     ]
    }
   ],
   "source": [
    "print(\"\\nOutput tensor after applying softmax:\")\n",
    "print(output)"
   ]
  },
  {
   "cell_type": "code",
   "execution_count": 12,
   "metadata": {},
   "outputs": [
    {
     "name": "stdout",
     "output_type": "stream",
     "text": [
      "\n",
      "Sum of probabilities for each sample (should be close to 1):\n",
      "tensor([1.0000, 1.0000, 1.0000])\n"
     ]
    }
   ],
   "source": [
    "\n",
    "# 验证 softmax 输出的每个样本的概率和是否为 1\n",
    "print(\"\\nSum of probabilities for each sample (should be close to 1):\")\n",
    "print(output.sum(dim=1))"
   ]
  },
  {
   "cell_type": "markdown",
   "metadata": {},
   "source": []
  }
 ],
 "metadata": {
  "kernelspec": {
   "display_name": "Python 3",
   "language": "python",
   "name": "python3"
  },
  "language_info": {
   "codemirror_mode": {
    "name": "ipython",
    "version": 3
   },
   "file_extension": ".py",
   "mimetype": "text/x-python",
   "name": "python",
   "nbconvert_exporter": "python",
   "pygments_lexer": "ipython3",
   "version": "3.11.9"
  }
 },
 "nbformat": 4,
 "nbformat_minor": 4
}
